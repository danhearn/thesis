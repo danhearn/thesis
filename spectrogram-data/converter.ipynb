{
 "cells": [
  {
   "cell_type": "code",
   "execution_count": 4,
   "metadata": {},
   "outputs": [
    {
     "name": "stdout",
     "output_type": "stream",
     "text": [
      "Processed chunk_10_seconds.wav\n",
      "Processed chunk_12_seconds.wav\n",
      "Processed chunk_14_seconds.wav\n",
      "Processed chunk_16_seconds.wav\n",
      "Processed chunk_18_seconds.wav\n",
      "Processed chunk_20_seconds.wav\n",
      "Processed chunk_22_seconds.wav\n",
      "Processed chunk_24_seconds.wav\n",
      "Processed chunk_26_seconds.wav\n",
      "Processed chunk_28_seconds.wav\n",
      "Processed chunk_2_seconds.wav\n",
      "Processed chunk_30_seconds.wav\n",
      "Processed chunk_4_seconds.wav\n",
      "Processed chunk_6_seconds.wav\n",
      "Processed chunk_8_seconds.wav\n"
     ]
    }
   ],
   "source": [
    "from SpectrogramGenerator import SpectrogramGenerator as sg\n",
    "import os\n",
    "import numpy as np\n",
    "\n",
    "# Get the list of files in the 'audio/' directory\n",
    "file_list = os.listdir('audio_chunks/')\n",
    "\n",
    "# Iterate over each file\n",
    "for file in file_list:\n",
    "    # Create a new SpectrogramGenerator object\n",
    "    base_filename = os.path.splitext(file)[0]\n",
    "    spectrogram = sg(input_audio_file=f'C:\\\\Users\\\\danhearn\\\\Documents\\\\GitHub\\\\thesis\\\\spectrogram-data\\\\audio_chunks\\\\{file}', \n",
    "                     output_image_path=f'C:\\\\Users\\\\danhearn\\\\Documents\\\\GitHub\\\\thesis\\\\spectrogram-data\\\\spectrograms\\\\{base_filename}', \n",
    "                     output_audio_file_path=f'C:\\\\Users\\\\danhearn\\\\Documents\\\\GitHub\\\\thesis\\\\spectrogram-data\\\\reconstructed_audio\\\\{base_filename}', \n",
    "                     output_audio_file=True)\n",
    "    \n",
    "    # Generate the spectrogram\n",
    "    spectrogram.generate_spectrogram()\n",
    "    print(f\"Processed {file}\")"
   ]
  }
 ],
 "metadata": {
  "kernelspec": {
   "display_name": "dan-thesis",
   "language": "python",
   "name": "python3"
  },
  "language_info": {
   "codemirror_mode": {
    "name": "ipython",
    "version": 3
   },
   "file_extension": ".py",
   "mimetype": "text/x-python",
   "name": "python",
   "nbconvert_exporter": "python",
   "pygments_lexer": "ipython3",
   "version": "3.11.9"
  }
 },
 "nbformat": 4,
 "nbformat_minor": 2
}
