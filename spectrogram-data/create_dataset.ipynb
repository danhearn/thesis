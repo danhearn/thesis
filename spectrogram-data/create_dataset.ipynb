{
 "cells": [
  {
   "cell_type": "code",
   "execution_count": 3,
   "metadata": {},
   "outputs": [
    {
     "name": "stdout",
     "output_type": "stream",
     "text": [
      "Saved: C:\\Users\\danhearn\\Documents\\GitHub\\thesis\\audio_chunks\\chunk_2_seconds.wav\n",
      "Saved: C:\\Users\\danhearn\\Documents\\GitHub\\thesis\\audio_chunks\\chunk_4_seconds.wav\n",
      "Saved: C:\\Users\\danhearn\\Documents\\GitHub\\thesis\\audio_chunks\\chunk_6_seconds.wav\n",
      "Saved: C:\\Users\\danhearn\\Documents\\GitHub\\thesis\\audio_chunks\\chunk_8_seconds.wav\n",
      "Saved: C:\\Users\\danhearn\\Documents\\GitHub\\thesis\\audio_chunks\\chunk_10_seconds.wav\n",
      "Saved: C:\\Users\\danhearn\\Documents\\GitHub\\thesis\\audio_chunks\\chunk_12_seconds.wav\n",
      "Saved: C:\\Users\\danhearn\\Documents\\GitHub\\thesis\\audio_chunks\\chunk_14_seconds.wav\n",
      "Saved: C:\\Users\\danhearn\\Documents\\GitHub\\thesis\\audio_chunks\\chunk_16_seconds.wav\n",
      "Saved: C:\\Users\\danhearn\\Documents\\GitHub\\thesis\\audio_chunks\\chunk_18_seconds.wav\n",
      "Saved: C:\\Users\\danhearn\\Documents\\GitHub\\thesis\\audio_chunks\\chunk_20_seconds.wav\n",
      "Saved: C:\\Users\\danhearn\\Documents\\GitHub\\thesis\\audio_chunks\\chunk_22_seconds.wav\n",
      "Saved: C:\\Users\\danhearn\\Documents\\GitHub\\thesis\\audio_chunks\\chunk_24_seconds.wav\n",
      "Saved: C:\\Users\\danhearn\\Documents\\GitHub\\thesis\\audio_chunks\\chunk_26_seconds.wav\n",
      "Saved: C:\\Users\\danhearn\\Documents\\GitHub\\thesis\\audio_chunks\\chunk_28_seconds.wav\n",
      "Saved: C:\\Users\\danhearn\\Documents\\GitHub\\thesis\\audio_chunks\\chunk_30_seconds.wav\n"
     ]
    }
   ],
   "source": [
    "import librosa\n",
    "import soundfile as sf\n",
    "import os\n",
    "\n",
    "def cut_audio_into_chunks(input_file, output_folder, start_time_sec=60):\n",
    "    # Load the audio file\n",
    "    audio, sr = librosa.load(input_file, sr=None)  # Load with original sampling rate\n",
    "\n",
    "    # Check if output folder exists, if not, create it\n",
    "    if not os.path.exists(output_folder):\n",
    "        os.makedirs(output_folder)\n",
    "\n",
    "    # Define chunk sizes in seconds\n",
    "    chunk_sizes = list(range(2, 32, 2))  # Chunk sizes from 2 to 30 seconds\n",
    "\n",
    "    # Calculate start time in samples\n",
    "    start_sample = int(start_time_sec * sr)\n",
    "\n",
    "    # Loop over each chunk size, cut the audio starting from start_time, and save it\n",
    "    for size_sec in chunk_sizes:\n",
    "        size_sample = size_sec * sr\n",
    "        end_sample = start_sample + size_sample\n",
    "\n",
    "        # Ensure end sample does not exceed audio length\n",
    "        if end_sample > len(audio):\n",
    "            end_sample = len(audio)\n",
    "\n",
    "        chunk = audio[start_sample:end_sample]  # Slice the audio\n",
    "        output_file = os.path.join(output_folder, f\"chunk_{size_sec}_seconds.wav\")\n",
    "        sf.write(output_file, chunk, sr)  # Save as .wav\n",
    "        print(f\"Saved: {output_file}\")\n",
    "\n",
    "# Example usage:\n",
    "audio_file = \"C:\\\\Users\\\\danhearn\\\\Documents\\\\GitHub\\\\thesis\\\\spectrogram-data\\\\ten_days_of_blue.mp3\"  # Path to the MP3 file\n",
    "output_folder = \"C:\\\\Users\\\\danhearn\\\\Documents\\\\GitHub\\\\spectrogram-data\\\\thesis\\\\audio_chunks\"  # Folder to save the output chunks\n",
    "\n",
    "# Cut the audio and save chunks (starting from 1 minute into the song)\n",
    "cut_audio_into_chunks(audio_file, output_folder, start_time_sec=94)\n"
   ]
  }
 ],
 "metadata": {
  "kernelspec": {
   "display_name": "dan-thesis",
   "language": "python",
   "name": "python3"
  },
  "language_info": {
   "codemirror_mode": {
    "name": "ipython",
    "version": 3
   },
   "file_extension": ".py",
   "mimetype": "text/x-python",
   "name": "python",
   "nbconvert_exporter": "python",
   "pygments_lexer": "ipython3",
   "version": "3.11.9"
  }
 },
 "nbformat": 4,
 "nbformat_minor": 2
}
