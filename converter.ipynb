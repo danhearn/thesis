{
 "cells": [
  {
   "cell_type": "code",
   "execution_count": 1,
   "metadata": {},
   "outputs": [
    {
     "name": "stdout",
     "output_type": "stream",
     "text": [
      "Processed break_beat.wav\n",
      "Processed cash_register.wav\n",
      "Processed cash_register_reconstructed.wav\n",
      "Processed cw_amen01_175.wav\n",
      "Processed cw_amen02_165.wav\n",
      "Processed cw_amen03_167.wav\n",
      "Processed cw_amen04_170.wav\n",
      "Processed cw_amen05_158.wav\n",
      "Processed cw_amen06_169.wav\n",
      "Processed cw_amen07_172.wav\n",
      "Processed cw_amen08_165.wav\n",
      "Processed cw_amen09_175.wav\n",
      "Processed cw_amen10_135.wav\n",
      "Processed cw_amen11_145.wav\n",
      "Processed cw_amen11_145_recon.wav\n",
      "Processed cw_amen12_137.wav\n",
      "Processed cw_amen13_173.wav\n",
      "Processed cw_amen14_175.wav\n",
      "Processed cw_amen15_174.wav\n",
      "Processed cw_amen16_167.wav\n",
      "Processed cw_amen17_175.wav\n",
      "Processed cw_amen19_172.wav\n",
      "Processed cw_amen20_164.wav\n"
     ]
    }
   ],
   "source": [
    "from SpectrogramGenerator import SpectrogramGenerator as sg\n",
    "import os\n",
    "import numpy as np\n",
    "\n",
    "# Get the list of files in the 'audio/' directory\n",
    "file_list = os.listdir('audio/')\n",
    "\n",
    "# Iterate over each file\n",
    "for file in file_list:\n",
    "    # Create a new SpectrogramGenerator object\n",
    "    base_filename = os.path.splitext(file)[0]\n",
    "    spectrogram = sg(input_audio_file=f'C:\\\\Users\\\\danhearn\\\\Documents\\\\GitHub\\\\thesis\\\\audio\\\\{file}', \n",
    "                     output_image_path=f'C:\\\\Users\\\\danhearn\\\\Documents\\\\GitHub\\\\thesis\\\\spectrograms\\\\{base_filename}', \n",
    "                     output_audio_file_path=f'C:\\\\Users\\\\danhearn\\\\Documents\\\\GitHub\\\\thesis\\\\reconstructed_audio\\\\{base_filename}', \n",
    "                     output_audio_file=True)\n",
    "    \n",
    "    # Generate the spectrogram\n",
    "    spectrogram.generate_spectrogram()\n",
    "    print(f\"Processed {file}\")"
   ]
  }
 ],
 "metadata": {
  "kernelspec": {
   "display_name": "dan-thesis",
   "language": "python",
   "name": "python3"
  },
  "language_info": {
   "codemirror_mode": {
    "name": "ipython",
    "version": 3
   },
   "file_extension": ".py",
   "mimetype": "text/x-python",
   "name": "python",
   "nbconvert_exporter": "python",
   "pygments_lexer": "ipython3",
   "version": "3.11.9"
  }
 },
 "nbformat": 4,
 "nbformat_minor": 2
}
