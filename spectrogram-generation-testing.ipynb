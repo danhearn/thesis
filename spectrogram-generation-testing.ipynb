{
 "cells": [
  {
   "cell_type": "markdown",
   "metadata": {},
   "source": [
    "## Spectrogram Test\n",
    "\n",
    "This notebook serves to test the potential audio output of 512x512 spectrogram images. \n",
    "\n",
    "This is the image size that stream diffusion will generate. So before training the model it's important to check the quality of output. "
   ]
  },
  {
   "cell_type": "code",
   "execution_count": 1,
   "metadata": {},
   "outputs": [
    {
     "name": "stdout",
     "output_type": "stream",
     "text": [
      "Requirement already satisfied: librosa in c:\\users\\danhearn\\.conda\\envs\\dan-thesis\\lib\\site-packages (0.10.2.post1)\n",
      "Requirement already satisfied: matplotlib in c:\\users\\danhearn\\.conda\\envs\\dan-thesis\\lib\\site-packages (3.9.2)\n",
      "Requirement already satisfied: soundfile in c:\\users\\danhearn\\.conda\\envs\\dan-thesis\\lib\\site-packages (0.12.1)\n",
      "Requirement already satisfied: audioread>=2.1.9 in c:\\users\\danhearn\\.conda\\envs\\dan-thesis\\lib\\site-packages (from librosa) (3.0.1)\n",
      "Requirement already satisfied: numpy!=1.22.0,!=1.22.1,!=1.22.2,>=1.20.3 in c:\\users\\danhearn\\.conda\\envs\\dan-thesis\\lib\\site-packages (from librosa) (2.0.2)\n",
      "Requirement already satisfied: scipy>=1.2.0 in c:\\users\\danhearn\\.conda\\envs\\dan-thesis\\lib\\site-packages (from librosa) (1.14.1)\n",
      "Requirement already satisfied: scikit-learn>=0.20.0 in c:\\users\\danhearn\\.conda\\envs\\dan-thesis\\lib\\site-packages (from librosa) (1.5.1)\n",
      "Requirement already satisfied: joblib>=0.14 in c:\\users\\danhearn\\.conda\\envs\\dan-thesis\\lib\\site-packages (from librosa) (1.4.2)\n",
      "Requirement already satisfied: decorator>=4.3.0 in c:\\users\\danhearn\\.conda\\envs\\dan-thesis\\lib\\site-packages (from librosa) (5.1.1)\n",
      "Requirement already satisfied: numba>=0.51.0 in c:\\users\\danhearn\\.conda\\envs\\dan-thesis\\lib\\site-packages (from librosa) (0.60.0)\n",
      "Requirement already satisfied: pooch>=1.1 in c:\\users\\danhearn\\.conda\\envs\\dan-thesis\\lib\\site-packages (from librosa) (1.8.2)\n",
      "Requirement already satisfied: soxr>=0.3.2 in c:\\users\\danhearn\\.conda\\envs\\dan-thesis\\lib\\site-packages (from librosa) (0.5.0.post1)\n",
      "Requirement already satisfied: typing-extensions>=4.1.1 in c:\\users\\danhearn\\.conda\\envs\\dan-thesis\\lib\\site-packages (from librosa) (4.12.2)\n",
      "Requirement already satisfied: lazy-loader>=0.1 in c:\\users\\danhearn\\.conda\\envs\\dan-thesis\\lib\\site-packages (from librosa) (0.4)\n",
      "Requirement already satisfied: msgpack>=1.0 in c:\\users\\danhearn\\.conda\\envs\\dan-thesis\\lib\\site-packages (from librosa) (1.0.8)\n",
      "Requirement already satisfied: contourpy>=1.0.1 in c:\\users\\danhearn\\.conda\\envs\\dan-thesis\\lib\\site-packages (from matplotlib) (1.3.0)\n",
      "Requirement already satisfied: cycler>=0.10 in c:\\users\\danhearn\\.conda\\envs\\dan-thesis\\lib\\site-packages (from matplotlib) (0.12.1)\n",
      "Requirement already satisfied: fonttools>=4.22.0 in c:\\users\\danhearn\\.conda\\envs\\dan-thesis\\lib\\site-packages (from matplotlib) (4.53.1)\n",
      "Requirement already satisfied: kiwisolver>=1.3.1 in c:\\users\\danhearn\\.conda\\envs\\dan-thesis\\lib\\site-packages (from matplotlib) (1.4.7)\n",
      "Requirement already satisfied: packaging>=20.0 in c:\\users\\danhearn\\.conda\\envs\\dan-thesis\\lib\\site-packages (from matplotlib) (24.1)\n",
      "Requirement already satisfied: pillow>=8 in c:\\users\\danhearn\\.conda\\envs\\dan-thesis\\lib\\site-packages (from matplotlib) (10.4.0)\n",
      "Requirement already satisfied: pyparsing>=2.3.1 in c:\\users\\danhearn\\.conda\\envs\\dan-thesis\\lib\\site-packages (from matplotlib) (3.1.4)\n",
      "Requirement already satisfied: python-dateutil>=2.7 in c:\\users\\danhearn\\.conda\\envs\\dan-thesis\\lib\\site-packages (from matplotlib) (2.9.0)\n",
      "Requirement already satisfied: cffi>=1.0 in c:\\users\\danhearn\\.conda\\envs\\dan-thesis\\lib\\site-packages (from soundfile) (1.17.0)\n",
      "Requirement already satisfied: pycparser in c:\\users\\danhearn\\.conda\\envs\\dan-thesis\\lib\\site-packages (from cffi>=1.0->soundfile) (2.22)\n",
      "Requirement already satisfied: llvmlite<0.44,>=0.43.0dev0 in c:\\users\\danhearn\\.conda\\envs\\dan-thesis\\lib\\site-packages (from numba>=0.51.0->librosa) (0.43.0)\n",
      "Requirement already satisfied: platformdirs>=2.5.0 in c:\\users\\danhearn\\.conda\\envs\\dan-thesis\\lib\\site-packages (from pooch>=1.1->librosa) (4.2.2)\n",
      "Requirement already satisfied: requests>=2.19.0 in c:\\users\\danhearn\\.conda\\envs\\dan-thesis\\lib\\site-packages (from pooch>=1.1->librosa) (2.32.3)\n",
      "Requirement already satisfied: six>=1.5 in c:\\users\\danhearn\\.conda\\envs\\dan-thesis\\lib\\site-packages (from python-dateutil>=2.7->matplotlib) (1.16.0)\n",
      "Requirement already satisfied: threadpoolctl>=3.1.0 in c:\\users\\danhearn\\.conda\\envs\\dan-thesis\\lib\\site-packages (from scikit-learn>=0.20.0->librosa) (3.5.0)\n",
      "Requirement already satisfied: charset-normalizer<4,>=2 in c:\\users\\danhearn\\.conda\\envs\\dan-thesis\\lib\\site-packages (from requests>=2.19.0->pooch>=1.1->librosa) (3.3.2)\n",
      "Requirement already satisfied: idna<4,>=2.5 in c:\\users\\danhearn\\.conda\\envs\\dan-thesis\\lib\\site-packages (from requests>=2.19.0->pooch>=1.1->librosa) (3.8)\n",
      "Requirement already satisfied: urllib3<3,>=1.21.1 in c:\\users\\danhearn\\.conda\\envs\\dan-thesis\\lib\\site-packages (from requests>=2.19.0->pooch>=1.1->librosa) (2.2.2)\n",
      "Requirement already satisfied: certifi>=2017.4.17 in c:\\users\\danhearn\\.conda\\envs\\dan-thesis\\lib\\site-packages (from requests>=2.19.0->pooch>=1.1->librosa) (2024.8.30)\n"
     ]
    }
   ],
   "source": [
    "! pip install librosa matplotlib soundfile"
   ]
  },
  {
   "cell_type": "code",
   "execution_count": 5,
   "metadata": {},
   "outputs": [],
   "source": [
    "import librosa\n",
    "import librosa.display\n",
    "import matplotlib.pyplot as plt\n",
    "import numpy as np\n",
    "\n",
    "audio_file = 'audio/cw_amen11_145.wav'\n",
    "\n",
    "y, sr = librosa.load(audio_file, sr=None)\n",
    "\n",
    "# sr = None means that the audio file will be loaded with its original sampling rate"
   ]
  },
  {
   "cell_type": "markdown",
   "metadata": {},
   "source": [
    "Generate spectrogram using STFT (short-time fourier transform)"
   ]
  },
  {
   "cell_type": "markdown",
   "metadata": {},
   "source": [
    "**Frequency Bins:** The frequency axis of the spectrogram is divided into bins, each representing a specific frequency range. The number of frequency bins is determined by the FFT (Fast Fourier Transform) size. For example, an FFT size of 2048 will give you 1024 frequency bins (since FFT produces symmetrical output, only the first half is typically used).\n",
    "\n",
    "**Buffer Size (Window Size):** The buffer size is the length of the audio segment used to compute each FFT. A larger buffer size gives you higher frequency resolution (more detailed frequency information), but lower time resolution (less detail in timing). Conversely, a smaller buffer size gives you higher time resolution but lower frequency resolution.\n",
    "\n",
    "**Hop Length (Stride):** This is the number of samples between successive frames (overlap between windows). A smaller hop length results in more overlap, providing smoother transitions but with higher computational cost.\n",
    "\n",
    "**Frame Rate:** The frame rate (or time resolution) in the spectrogram is determined by the hop length and the sample rate. It tells you how often the FFT is computed along the time axis."
   ]
  },
  {
   "cell_type": "code",
   "execution_count": 6,
   "metadata": {},
   "outputs": [
    {
     "name": "stdout",
     "output_type": "stream",
     "text": [
      "Decibel range: min -80.0, max 0.0\n"
     ]
    }
   ],
   "source": [
    "# Parameters for 512x512 spectrogram\n",
    "n_fft = 1024  # Determines the number of frequency bins (height of the spectrogram)\n",
    "hop_length = int(len(y) / 512)  # Ensure 512 time steps (width of the spectrogram)\n",
    "\n",
    "# Generate the spectrogram\n",
    "D = librosa.stft(y, n_fft=n_fft, hop_length=hop_length)\n",
    "S_db = librosa.amplitude_to_db(np.abs(D), ref=np.max)\n",
    "\n",
    "# Resize the spectrogram to 512x512 if needed (padding or cropping)\n",
    "S_db_resized = librosa.util.fix_length(S_db, size=512, axis=1)\n",
    "\n",
    "# Ensure the spectrogram is exactly 512x512\n",
    "assert S_db_resized.shape == (513, 512), f\"Spectrogram shape is {S_db_resized.shape}, expected (513, 512)\"\n",
    "\n",
    "# Check the range of S_db to adjust visualization if needed\n",
    "print(f\"Decibel range: min {S_db_resized.min()}, max {S_db_resized.max()}\")\n",
    "\n"
   ]
  },
  {
   "cell_type": "code",
   "execution_count": 7,
   "metadata": {},
   "outputs": [],
   "source": [
    "import soundfile as sf\n",
    "\n",
    "# Inverse STFT to reconstruct the audio signal\n",
    "y_reconstructed = librosa.istft(D, hop_length=hop_length)\n",
    "\n",
    "sf.write('audio/cw_amen11_145_recon.wav', y_reconstructed, sr)\n"
   ]
  },
  {
   "cell_type": "code",
   "execution_count": 8,
   "metadata": {},
   "outputs": [],
   "source": [
    "# Create a figure without any axes or titles\n",
    "fig, ax = plt.subplots(figsize=(5.12, 5.12))\n",
    "ax.axis('off')  # Turn off axes\n",
    "librosa.display.specshow(S_db_resized, sr=sr, hop_length=hop_length, x_axis=None, y_axis=None, cmap='inferno')\n",
    "plt.subplots_adjust(left=0, right=1, top=1, bottom=0)  # Remove padding\n",
    "\n",
    "# Save the spectrogram image without any additional chart elements\n",
    "output_image_path = 'spectrogram_512x512_no_axes.png'\n",
    "plt.savefig(output_image_path, bbox_inches='tight', pad_inches=0, dpi=100)\n",
    "plt.close()"
   ]
  },
  {
   "cell_type": "code",
   "execution_count": 1,
   "metadata": {},
   "outputs": [
    {
     "name": "stdout",
     "output_type": "stream",
     "text": [
      "Spectrogram shape is (513, 512)\n"
     ]
    }
   ],
   "source": [
    "# testomg the SpectrogramGenerator class\n",
    "\n",
    "from SpectrogramGenerator import SpectrogramGenerator as sg\n",
    "\n",
    "generator = sg(input_audio_file='audio/cash_register_reconstructed.wav', output_image_path='spectrograms/', output_audio_file_path='')\n",
    "\n",
    "generator.generate_spectrogram()\n"
   ]
  }
 ],
 "metadata": {
  "kernelspec": {
   "display_name": "dan-thesis",
   "language": "python",
   "name": "python3"
  },
  "language_info": {
   "codemirror_mode": {
    "name": "ipython",
    "version": 3
   },
   "file_extension": ".py",
   "mimetype": "text/x-python",
   "name": "python",
   "nbconvert_exporter": "python",
   "pygments_lexer": "ipython3",
   "version": "3.11.9"
  }
 },
 "nbformat": 4,
 "nbformat_minor": 2
}
